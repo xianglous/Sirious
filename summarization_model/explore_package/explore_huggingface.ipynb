{
 "cells": [
  {
   "cell_type": "markdown",
   "source": [
    "# Explore HuggingFace\n",
    "Since Sat. Oct. 23rd, 2021\n",
    "\n",
    "Understand HuggingFace API\n",
    "\n",
    "\n",
    "## Setup\n",
    "\n"
   ],
   "metadata": {
    "collapsed": false
   }
  },
  {
   "cell_type": "code",
   "execution_count": 6,
   "outputs": [],
   "source": [
    "import torch\n",
    "import tensorflow\n",
    "from transformers import pipeline\n",
    "\n",
    "import os\n",
    "\n",
    "from summarization_model.util import *\n",
    "\n",
    "\n",
    "os.chdir('..')\n",
    "\n"
   ],
   "metadata": {
    "collapsed": false,
    "pycharm": {
     "name": "#%%\n"
    }
   }
  },
  {
   "cell_type": "markdown",
   "source": [
    "## Usage examples\n",
    "\n"
   ],
   "metadata": {
    "collapsed": false
   }
  },
  {
   "cell_type": "code",
   "execution_count": null,
   "outputs": [
    {
     "name": "stderr",
     "output_type": "stream",
     "text": [
      "No model was supplied, defaulted to sshleifer/distilbart-cnn-12-6 (https://huggingface.co/sshleifer/distilbart-cnn-12-6)\n"
     ]
    }
   ],
   "source": [
    "def distill_bart(text):\n",
    "    \"\"\"\n",
    "    Default: `sshleifer/distilbart-cnn-12-6` in pytorch\n",
    "    \"\"\"\n",
    "    summarizer = pipeline('summarization')\n",
    "    summarizer(text, min_length=50, max_length=200)  # Too much tokens than maximum of 1024\n",
    "\n",
    "\n",
    "def t5(text):\n",
    "    \"\"\"\n",
    "    `t5` in tf\n",
    "    \"\"\"\n",
    "    summarizer = pipeline('summarization', model='t5-base', tokenizer='t5-base', framework='tf')\n",
    "    summarizer(text, min_length=5, max_length=20)\n",
    "\n",
    "distill_bart('hello world')\n",
    "t5('hello world')\n",
    "\n"
   ],
   "metadata": {
    "collapsed": false,
    "pycharm": {
     "name": "#%%\n",
     "is_executing": true
    }
   }
  },
  {
   "cell_type": "markdown",
   "source": [
    "## Is `generate()` same as `__call__`?\n",
    "\n"
   ],
   "metadata": {
    "collapsed": false
   }
  },
  {
   "cell_type": "markdown",
   "source": [],
   "metadata": {
    "collapsed": false
   }
  },
  {
   "cell_type": "code",
   "execution_count": null,
   "metadata": {
    "collapsed": true,
    "pycharm": {
     "is_executing": true
    }
   },
   "outputs": [],
   "source": [
    "summarizer = pipeline('summarization', model='t5-base', tokenizer='t5-base', framework='tf')\n",
    "text = get_1st_n_words(get_498_eg(), n=200)\n",
    "ic(summarizer(text, min_length=5, max_length=20))\n",
    "# ic(summarizer.generate(text, min_length=5, max_length=20))  # Results in error\n",
    "\n"
   ]
  }
 ],
 "metadata": {
  "kernelspec": {
   "display_name": "Python 3",
   "language": "python",
   "name": "python3"
  },
  "language_info": {
   "codemirror_mode": {
    "name": "ipython",
    "version": 2
   },
   "file_extension": ".py",
   "mimetype": "text/x-python",
   "name": "python",
   "nbconvert_exporter": "python",
   "pygments_lexer": "ipython2",
   "version": "2.7.6"
  }
 },
 "nbformat": 4,
 "nbformat_minor": 0
}