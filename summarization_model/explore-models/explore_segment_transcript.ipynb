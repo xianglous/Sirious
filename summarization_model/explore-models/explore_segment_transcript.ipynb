{
 "cells": [
  {
   "cell_type": "markdown",
   "source": [
    "# Explore segment transcript\n",
    "A conversational transcript, be it lecture or speech,\n",
    "may contain thousands of tokens that don't fit into most summarization models\n",
    "=> Can we break up the transcript into sequential, semantically-disjoint sections and get summaries for each section?\n",
    "\n",
    "\n",
    "The high-level idea is to compute the similarity of vector representations of two segments, using token embeddings or encoders.\n",
    "\n",
    "\n",
    "## Setup\n",
    "\n"
   ],
   "metadata": {
    "collapsed": false
   }
  },
  {
   "cell_type": "code",
   "execution_count": 3,
   "metadata": {
    "collapsed": true
   },
   "outputs": [],
   "source": [
    "from sentence_transformers import SentenceTransformer\n",
    "from icecream import ic\n",
    "\n"
   ]
  },
  {
   "cell_type": "markdown",
   "source": [
    "## Test implementation\n",
    "[Sentence Transformers](https://github.com/UKPLab/sentence-transformers)\n",
    "\n",
    "> **all-MiniLM-L6-v2**  Description:All-round model tuned for many use-cases. Trained on a large and diverse dataset of over 1 billion training pairs.Base Model:[nreimers/MiniLM-L6-H384-uncased](https://huggingface.co/nreimers/MiniLM-L6-H384-uncased)Max Sequence Length:256\n",
    "\n"
   ],
   "metadata": {
    "collapsed": false
   }
  },
  {
   "cell_type": "code",
   "execution_count": 5,
   "outputs": [
    {
     "name": "stderr",
     "output_type": "stream",
     "text": [
      "ic| sent: 'This framework generates embeddings for each input sentence'\n",
      "    type(eb): <class 'numpy.ndarray'>\n",
      "    eb[:5]: array([-0.01371738, -0.04285151, -0.01562862,  0.01405377,  0.03955379],\n",
      "                  dtype=float32)\n",
      "    eb.max(): 0.14805225\n",
      "    eb.min(): -0.14523743\n",
      "ic| sent: 'Sentences are passed as a list of string.'\n",
      "    type(eb): <class 'numpy.ndarray'>\n",
      "    eb[:5]: array([ 0.0564525 ,  0.0550024 ,  0.0313796 ,  0.03394851, -0.03542472],\n",
      "                  dtype=float32)\n",
      "    eb.max(): 0.13066325\n",
      "    eb.min(): -0.1623793\n",
      "ic| sent: 'The quick brown fox jumps over the lazy dog.'\n",
      "    type(eb): <class 'numpy.ndarray'>\n",
      "    eb[:5]: array([0.04393353, 0.05893438, 0.04817836, 0.07754812, 0.02674439],\n",
      "                  dtype=float32)\n",
      "    eb.max(): 0.17682604\n",
      "    eb.min(): -0.13295041\n"
     ]
    }
   ],
   "source": [
    "model = SentenceTransformer('all-MiniLM-L6-v2')\n",
    "\n",
    "sents = [\n",
    "    'This framework generates embeddings for each input sentence',\n",
    "    'Sentences are passed as a list of string.',\n",
    "    'The quick brown fox jumps over the lazy dog.'\n",
    "]\n",
    "\n",
    "for sent, eb in zip(sents, model.encode(sents)):\n",
    "    ic(sent, type(eb), eb[:5], eb.max(), eb.min())\n",
    "\n"
   ],
   "metadata": {
    "collapsed": false,
    "pycharm": {
     "name": "#%%\n"
    }
   }
  }
 ],
 "metadata": {
  "kernelspec": {
   "display_name": "Python 3",
   "language": "python",
   "name": "python3"
  },
  "language_info": {
   "codemirror_mode": {
    "name": "ipython",
    "version": 2
   },
   "file_extension": ".py",
   "mimetype": "text/x-python",
   "name": "python",
   "nbconvert_exporter": "python",
   "pygments_lexer": "ipython2",
   "version": "2.7.6"
  }
 },
 "nbformat": 4,
 "nbformat_minor": 0
}